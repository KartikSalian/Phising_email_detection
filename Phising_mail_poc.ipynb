{
 "cells": [
  {
   "cell_type": "code",
   "execution_count": 1,
   "id": "fc236ec6-f8cc-4730-85d7-e7a7a0d085f0",
   "metadata": {},
   "outputs": [],
   "source": [
    "#!pip install datasets"
   ]
  },
  {
   "cell_type": "code",
   "execution_count": 2,
   "id": "9f39f4b8-31c6-4f5d-b4c7-e09bee2e4a40",
   "metadata": {},
   "outputs": [],
   "source": [
    "#!pip install nltk"
   ]
  },
  {
   "cell_type": "code",
   "execution_count": 3,
   "id": "7956adf0-1a5c-4759-aee4-08216b267d97",
   "metadata": {},
   "outputs": [],
   "source": [
    "#!pip install openpyxl"
   ]
  },
  {
   "cell_type": "code",
   "execution_count": 4,
   "id": "8454d8bd-ec6b-4622-9a29-a0c2f46a80ea",
   "metadata": {},
   "outputs": [
    {
     "name": "stdout",
     "output_type": "stream",
     "text": [
      "Requirement already satisfied: transformers[torch] in c:\\users\\salia\\anaconda3\\envs\\gpu_env\\lib\\site-packages (4.50.2)\n",
      "Requirement already satisfied: filelock in c:\\users\\salia\\anaconda3\\envs\\gpu_env\\lib\\site-packages (from transformers[torch]) (3.13.1)\n",
      "Requirement already satisfied: huggingface-hub<1.0,>=0.26.0 in c:\\users\\salia\\anaconda3\\envs\\gpu_env\\lib\\site-packages (from transformers[torch]) (0.29.3)\n",
      "Requirement already satisfied: numpy>=1.17 in c:\\users\\salia\\anaconda3\\envs\\gpu_env\\lib\\site-packages (from transformers[torch]) (2.0.1)\n",
      "Requirement already satisfied: packaging>=20.0 in c:\\users\\salia\\anaconda3\\envs\\gpu_env\\lib\\site-packages (from transformers[torch]) (24.2)\n",
      "Requirement already satisfied: pyyaml>=5.1 in c:\\users\\salia\\anaconda3\\envs\\gpu_env\\lib\\site-packages (from transformers[torch]) (6.0.2)\n",
      "Requirement already satisfied: regex!=2019.12.17 in c:\\users\\salia\\anaconda3\\envs\\gpu_env\\lib\\site-packages (from transformers[torch]) (2024.11.6)\n",
      "Requirement already satisfied: requests in c:\\users\\salia\\anaconda3\\envs\\gpu_env\\lib\\site-packages (from transformers[torch]) (2.32.3)\n",
      "Requirement already satisfied: tokenizers<0.22,>=0.21 in c:\\users\\salia\\anaconda3\\envs\\gpu_env\\lib\\site-packages (from transformers[torch]) (0.21.1)\n",
      "Requirement already satisfied: safetensors>=0.4.3 in c:\\users\\salia\\anaconda3\\envs\\gpu_env\\lib\\site-packages (from transformers[torch]) (0.5.3)\n",
      "Requirement already satisfied: tqdm>=4.27 in c:\\users\\salia\\anaconda3\\envs\\gpu_env\\lib\\site-packages (from transformers[torch]) (4.67.1)\n",
      "Requirement already satisfied: torch>=2.0 in c:\\users\\salia\\anaconda3\\envs\\gpu_env\\lib\\site-packages (from transformers[torch]) (2.5.1)\n",
      "Requirement already satisfied: accelerate>=0.26.0 in c:\\users\\salia\\anaconda3\\envs\\gpu_env\\lib\\site-packages (from transformers[torch]) (1.5.2)\n",
      "Requirement already satisfied: psutil in c:\\users\\salia\\anaconda3\\envs\\gpu_env\\lib\\site-packages (from accelerate>=0.26.0->transformers[torch]) (7.0.0)\n",
      "Requirement already satisfied: fsspec>=2023.5.0 in c:\\users\\salia\\anaconda3\\envs\\gpu_env\\lib\\site-packages (from huggingface-hub<1.0,>=0.26.0->transformers[torch]) (2024.12.0)\n",
      "Requirement already satisfied: typing-extensions>=3.7.4.3 in c:\\users\\salia\\anaconda3\\envs\\gpu_env\\lib\\site-packages (from huggingface-hub<1.0,>=0.26.0->transformers[torch]) (4.12.2)\n",
      "Requirement already satisfied: networkx in c:\\users\\salia\\anaconda3\\envs\\gpu_env\\lib\\site-packages (from torch>=2.0->transformers[torch]) (3.4.2)\n",
      "Requirement already satisfied: jinja2 in c:\\users\\salia\\anaconda3\\envs\\gpu_env\\lib\\site-packages (from torch>=2.0->transformers[torch]) (3.1.6)\n",
      "Requirement already satisfied: sympy==1.13.1 in c:\\users\\salia\\anaconda3\\envs\\gpu_env\\lib\\site-packages (from torch>=2.0->transformers[torch]) (1.13.1)\n",
      "Requirement already satisfied: mpmath<1.4,>=1.1.0 in c:\\users\\salia\\anaconda3\\envs\\gpu_env\\lib\\site-packages (from sympy==1.13.1->torch>=2.0->transformers[torch]) (1.3.0)\n",
      "Requirement already satisfied: colorama in c:\\users\\salia\\anaconda3\\envs\\gpu_env\\lib\\site-packages (from tqdm>=4.27->transformers[torch]) (0.4.6)\n",
      "Requirement already satisfied: charset-normalizer<4,>=2 in c:\\users\\salia\\anaconda3\\envs\\gpu_env\\lib\\site-packages (from requests->transformers[torch]) (3.3.2)\n",
      "Requirement already satisfied: idna<4,>=2.5 in c:\\users\\salia\\anaconda3\\envs\\gpu_env\\lib\\site-packages (from requests->transformers[torch]) (3.7)\n",
      "Requirement already satisfied: urllib3<3,>=1.21.1 in c:\\users\\salia\\anaconda3\\envs\\gpu_env\\lib\\site-packages (from requests->transformers[torch]) (2.3.0)\n",
      "Requirement already satisfied: certifi>=2017.4.17 in c:\\users\\salia\\anaconda3\\envs\\gpu_env\\lib\\site-packages (from requests->transformers[torch]) (2025.1.31)\n",
      "Requirement already satisfied: MarkupSafe>=2.0 in c:\\users\\salia\\anaconda3\\envs\\gpu_env\\lib\\site-packages (from jinja2->torch>=2.0->transformers[torch]) (3.0.2)\n"
     ]
    }
   ],
   "source": [
    "!pip install transformers[torch]"
   ]
  },
  {
   "cell_type": "markdown",
   "id": "32b24e86-cdfb-4abc-9df0-385e51fafb0b",
   "metadata": {},
   "source": [
    "# Reading the data"
   ]
  },
  {
   "cell_type": "code",
   "execution_count": 5,
   "id": "c4d504ed-19e8-4dfb-a029-33e262159bdb",
   "metadata": {},
   "outputs": [
    {
     "name": "stderr",
     "output_type": "stream",
     "text": [
      "c:\\Users\\salia\\anaconda3\\envs\\gpu_env\\lib\\site-packages\\tqdm\\auto.py:21: TqdmWarning: IProgress not found. Please update jupyter and ipywidgets. See https://ipywidgets.readthedocs.io/en/stable/user_install.html\n",
      "  from .autonotebook import tqdm as notebook_tqdm\n"
     ]
    },
    {
     "name": "stdout",
     "output_type": "stream",
     "text": [
      "Available configurations: ['texts', 'urls', 'webs', 'combined_full', 'combined_reduced']\n"
     ]
    }
   ],
   "source": [
    "from datasets import get_dataset_config_names\n",
    "\n",
    "\n",
    "configs = get_dataset_config_names(\"ealvaradob/phishing-dataset\")\n",
    "print(\"Available configurations:\", configs)"
   ]
  },
  {
   "cell_type": "code",
   "execution_count": 6,
   "id": "1b6d861d-86df-4d5e-ba0c-88ac931f9eeb",
   "metadata": {},
   "outputs": [
    {
     "name": "stdout",
     "output_type": "stream",
     "text": [
      "Loaded 20137 rows\n",
      "                                                text  label\n",
      "0  re : 6 . 1100 , disc : uniformitarianism , re ...      0\n",
      "1  the other side of * galicismos * * galicismo *...      0\n",
      "2  re : equistar deal tickets are you still avail...      0\n",
      "3  \\nHello I am your hot lil horny toy.\\n    I am...      1\n",
      "4  software at incredibly low prices ( 86 % lower...      1\n"
     ]
    }
   ],
   "source": [
    "from datasets import load_dataset\n",
    "\n",
    "# Choose one of these configurations:\n",
    "configs = ['texts', 'urls', 'webs', 'combined_full', 'combined_reduced']\n",
    "\n",
    "dataset = load_dataset(\"ealvaradob/phishing-dataset\", \"texts\", trust_remote_code=True)\n",
    "\n",
    "# Convert to pandas DataFrame\n",
    "df = dataset['train'].to_pandas()\n",
    "print(f\"Loaded {len(df)} rows\")\n",
    "print(df.head())"
   ]
  },
  {
   "cell_type": "code",
   "execution_count": 7,
   "id": "22a50f9f-4726-44d6-bcaa-1b5e2cc12191",
   "metadata": {},
   "outputs": [
    {
     "data": {
      "text/plain": [
       "(20137, 2)"
      ]
     },
     "execution_count": 7,
     "metadata": {},
     "output_type": "execute_result"
    }
   ],
   "source": [
    "df.shape"
   ]
  },
  {
   "cell_type": "markdown",
   "id": "e45a61c2-8832-4e98-a2af-9ee13331eb9f",
   "metadata": {},
   "source": [
    "## Looking at the data Imbalance"
   ]
  },
  {
   "cell_type": "code",
   "execution_count": 8,
   "id": "25a67a27-c43d-419a-bfb8-4101da1a5809",
   "metadata": {},
   "outputs": [
    {
     "name": "stdout",
     "output_type": "stream",
     "text": [
      "<class 'pandas.core.frame.DataFrame'>\n",
      "RangeIndex: 20137 entries, 0 to 20136\n",
      "Data columns (total 2 columns):\n",
      " #   Column  Non-Null Count  Dtype \n",
      "---  ------  --------------  ----- \n",
      " 0   text    20137 non-null  object\n",
      " 1   label   20137 non-null  int64 \n",
      "dtypes: int64(1), object(1)\n",
      "memory usage: 314.8+ KB\n",
      "None\n",
      "label\n",
      "0    0.61901\n",
      "1    0.38099\n",
      "Name: proportion, dtype: float64\n"
     ]
    },
    {
     "data": {
      "image/png": "[encoded data removed]",
      "text/plain": [
       "<Figure size 640x480 with 1 Axes>"
      ]
     },
     "metadata": {},
     "output_type": "display_data"
    },
    {
     "data": {
      "text/plain": [
       "<Axes: >"
      ]
     },
     "execution_count": 8,
     "metadata": {},
     "output_type": "execute_result"
    },
    {
     "data": {
      "image/png": "[encoded data removed]",
      "text/plain": [
       "<Figure size 640x480 with 1 Axes>"
      ]
     },
     "metadata": {},
     "output_type": "display_data"
    }
   ],
   "source": [
    "import pandas as pd\n",
    "import matplotlib.pyplot as plt\n",
    "\n",
    "# Basic stats\n",
    "print(df.info())\n",
    "print(df['label'].value_counts(normalize=True))\n",
    "\n",
    "# Visualize class balance\n",
    "df['label'].value_counts().plot(kind='bar', title='Phishing vs Legitimate')\n",
    "plt.show()\n",
    "\n",
    "# Example: Check text length distribution\n",
    "df['text_length'] = df['text'].apply(len)\n",
    "df['text_length'].hist(bins=50)"
   ]
  },
  {
   "cell_type": "markdown",
   "id": "665dd494-8930-4f94-a4b4-5e560fee83b0",
   "metadata": {},
   "source": [
    "## Looking at the examples"
   ]
  },
  {
   "cell_type": "code",
   "execution_count": 9,
   "id": "ad6b220c-c269-453e-9a00-302a6f213dea",
   "metadata": {
    "scrolled": true
   },
   "outputs": [
    {
     "name": "stdout",
     "output_type": "stream",
     "text": [
      "Phishing Examples:\n",
      "['new member incentive program - get an apple computer !'\n",
      " \"picks so hot you ' ll tell your friends stock watch alert this morning are wysak petroleum ( wysk ) , key energy services , inc . ( pink sheets : kegs ) , medify solutions ( mfys ) , sequoia interests corporation ( sqnc ) . wysak petroieum ( wysk ) current price : . 225 wysak petroieum announces the signing of a letter of intent with the european commission baltic renewabie energy centre ( ec brec ) to assist wysak petroleum in the development of the wysak wind power project . ec brec and wysak have signed a loi in respect to the deveiopment of a ful | - sized commercial wind power project in europe . this letter states that ec brec can support wysak in matters such as financia | structuring and investment , regulatory issues , government policies , negotiations , wind technologies , and other aspects reiating to wind power . about the wysak wind project this development wil | be up to a maximum 90 mw in size and cost upwards of $ 120 miliion in deveiopment expenditures . once completed , this wind park wil | suppiy upwards of 170 , 000 mw of eiectricity annuaily for poiand and the european community . this is enough green energy to suppiy upwards of 25 , 000 homes with electricity and offset neariy 170 , 000 tonnes of greenhouse gases . total gross eiectric saies over a 20 - year period are estimated at over $ 450 miilion for a project this size . about the ec baitic renewable energy centre the mission of european commission - founded ec brec is to stimuiate the development of renewabie energy sources ( res ) in poland through the construction of res projects , the development of innovative technoiogies , and the creation of reievant poiicies , strategies and pians . to fuifill the mission , ec brec uses its own research capabilities and cooperates with partner institutions from the eu , other countries , and international organizations . about wysak petroleum wysak is a diversified energy company whose goa | is to identify and develop traditional fossi | fue | sites , as well as clean air alternative energy producing technoiogies . wysak controls one wyoming federa | oi | gas | ease in the bighorn basin region and another in the green river basin . its two wyoming state | eases are | ocated 45 miies apart within the massive coaibed methane play area of the powder river basin . numerous | arge petroieum and expioration firms operate near to all of these properties ; they inciude exxonmobile ( xom ) , wi | | iams gas ( wmb ) , and western gas ( wgr ) among others . collectiveiy , over 26 , 000 weils produced 54 . 7 miliion barrels of oi | and 1 . 75 triilion cubic feet of natura | gas in wyoming conciusion : the exampies above show the awesome , earning potentia | of littie known companies that expiode onto investor ' s radar screens ; many of you are aiready famiiiar with this . is wysk poised and positioned to do that for you ? then you may feel the time has come to act . . . and piease watch this one trade wednesday ! go wysk . penny stocks are considered highiy speculative and may be unsuitable for a | | but very aggressive investors . this profile is not in any way affiliated with the featured company . we were compensated 3000 do | | ars to distribute this report . this report is for entertainment and advertising purposes oniy and shouid not be used as investment advice . if you wish to stop future mailings , or if you feel you have been wrongfully placed in our membership , piease go here or send a blank e mai | with no thanks in the subject to stock 63 @ yahoo . com\"]\n",
      "\n",
      "Legitimate Examples:\n",
      "['please post a link!Fox ----- Original Message ----- From: \"Arnaud Abelard\" To: Sent: Tuesday, September 03, 2002 2:39 AM Subject: [Razor-users] razor plugins for mozilla? > Hello, > > did any of you hear about a a razor plugin for mozilla? > a plugin that would add a \"report as spam\" button somewhere for the user > to report a mail as spam on a server? > > Arnaud > -- > Arnaud AbÃ©lard > Administrateur rÃ©seaux et systÃ¨mes > Irin / FacultÃ© de Sciences > UniversitÃ© de Nantes > > > > ------------------------------------------------------- > This sf.net email is sponsored by: OSDN - Tired of that same old > cell phone? Get a new here for FREE! > https://www.inphonic.com/r.asp?r=sourceforge1&refcode1=vs3390 > _______________________________________________ > Razor-users mailing list > Razor-users@lists.sourceforge.net > https://lists.sourceforge.net/lists/listinfo/razor-users------------------------------------------------------- This sf.net email is sponsored by: OSDN - Tired of that same old cell phone? Get a new here for FREE! https://www.inphonic.com/r.asp?r=sourceforge1&refcode1=vs3390 _______________________________________________ Razor-users mailing list Razor-users@lists.sourceforge.net https://lists.sourceforge.net/lists/listinfo/razor-users'\n",
      " 'job : slavic linguistics ( forwarded from seelangs ) russian / slavic linguist . assistant professor , tenure-track , contingent on budgetary approval . must have phd in hand , demonstrated teaching ability , commitment to research , and ability to teach slavic linguistics courses at the ma level , russian at all levels , and a second slavic language . preference will be given to those who can help develop a curriculum dealing with the interface between linguistics , literature and culture . please send cv , description of research interests , and names of three references by december 1 , 1994 , to george gutsche , head , department of russian & slavic languages , university of arizona , modern languages 340 , tucson , az 85721 . position available beginning august 1995 . the university of arizona is an eeo / aa / ada compliance employer .']\n"
     ]
    }
   ],
   "source": [
    "# Spot-check phishing examples\n",
    "print(\"Phishing Examples:\")\n",
    "print(df[df['label'] == 1]['text'].sample(2).values)\n",
    "\n",
    "# Spot-check legitimate examples\n",
    "print(\"\\nLegitimate Examples:\")\n",
    "print(df[df['label'] == 0]['text'].sample(2).values)"
   ]
  },
  {
   "cell_type": "markdown",
   "id": "4f5b8ce4-6425-4e5e-8d78-fa9f751023ef",
   "metadata": {},
   "source": [
    "# Data Preprocessing "
   ]
  },
  {
   "cell_type": "markdown",
   "id": "e81251bb-b345-40d4-a041-a96c78f5a956",
   "metadata": {},
   "source": [
    "Processing the data for model: lowercase, remove urls, remove hitml tags sepcial char/numsm remove stop words "
   ]
  },
  {
   "cell_type": "code",
   "execution_count": 10,
   "id": "7f58f54b-d0a5-4eb8-8937-3d3d67fbf0b0",
   "metadata": {},
   "outputs": [
    {
     "name": "stderr",
     "output_type": "stream",
     "text": [
      "[nltk_data] Downloading package stopwords to\n",
      "[nltk_data]     C:\\Users\\salia\\AppData\\Roaming\\nltk_data...\n",
      "[nltk_data]   Package stopwords is already up-to-date!\n"
     ]
    }
   ],
   "source": [
    "import re\n",
    "import nltk\n",
    "from nltk.corpus import stopwords\n",
    "nltk.download('stopwords')\n",
    "\n",
    "def clean_text(text):\n",
    "    # Lowercase\n",
    "    text = text.lower()\n",
    "    # Remove URLs\n",
    "    text = re.sub(r'http\\S+|www\\S+|https\\S+', '', text, flags=re.MULTILINE)\n",
    "    # Remove HTML tags\n",
    "    text = re.sub(r'<.*?>', '', text)\n",
    "    # Remove special chars/numbers\n",
    "    text = re.sub(r'[^a-zA-Z\\s]', '', text)\n",
    "    # Remove stopwords\n",
    "    stop_words = set(stopwords.words('english'))\n",
    "    text = ' '.join([word for word in text.split() if word not in stop_words])\n",
    "    return text\n",
    "\n",
    "df['cleaned_text'] = df['text'].apply(clean_text)"
   ]
  },
  {
   "cell_type": "markdown",
   "id": "3b31fcd5-d878-48ff-8a52-274053a37ca9",
   "metadata": {},
   "source": [
    "# Feature Engineering "
   ]
  },
  {
   "cell_type": "markdown",
   "id": "f62769b1-ffab-4fa0-adbc-08bc23bf88f3",
   "metadata": {},
   "source": [
    "adding text length and urgency word count"
   ]
  },
  {
   "cell_type": "code",
   "execution_count": 11,
   "id": "bffd30cb-80b4-4812-8529-55baf3642a8a",
   "metadata": {},
   "outputs": [],
   "source": [
    "# Add text length as a feature\n",
    "df['text_length'] = df['text'].apply(len)\n",
    "\n",
    "# Add urgency word count\n",
    "urgency_words = ['urgent', 'immediately', 'action required']\n",
    "df['urgency_score'] = df['text'].apply(lambda x: sum(x.lower().count(word) for word in urgency_words))"
   ]
  },
  {
   "cell_type": "code",
   "execution_count": 12,
   "id": "953357c9-16bb-414d-8dc9-0a49cc661717",
   "metadata": {},
   "outputs": [
    {
     "data": {
      "text/plain": [
       "Index(['text', 'label', 'text_length', 'cleaned_text', 'urgency_score'], dtype='object')"
      ]
     },
     "execution_count": 12,
     "metadata": {},
     "output_type": "execute_result"
    }
   ],
   "source": [
    "df.columns\n"
   ]
  },
  {
   "cell_type": "markdown",
   "id": "e4182589-f193-449e-8618-3526bc59ceff",
   "metadata": {},
   "source": [
    "# Model Training"
   ]
  },
  {
   "cell_type": "code",
   "execution_count": 13,
   "id": "1c50afa8-03ec-4349-b238-6cdd9aef8a0a",
   "metadata": {},
   "outputs": [
    {
     "name": "stdout",
     "output_type": "stream",
     "text": [
      "Using device: cuda\n",
      "\n",
      "Sample enhanced text:\n",
      "hello hot lil horny toy one dream open minded person love talk subject fantasy way life ultimate sex play ummmmmmmmmmmmmm wet ready looks imagination matters sexy voice make dream come true hurry call let cummmmm tollfree teen phone billing signup free personalized email mailcom\n"
     ]
    },
    {
     "name": "stderr",
     "output_type": "stream",
     "text": [
      "Some weights of PhishingBERT were not initialized from the model checkpoint at distilbert-base-uncased and are newly initialized: ['classifier.bias', 'classifier.weight', 'numeric_proj.bias', 'numeric_proj.weight']\n",
      "You should probably TRAIN this model on a down-stream task to be able to use it for predictions and inference.\n",
      "c:\\Users\\salia\\anaconda3\\envs\\gpu_env\\lib\\site-packages\\transformers\\training_args.py:1611: FutureWarning: `evaluation_strategy` is deprecated and will be removed in version 4.46 of 🤗 Transformers. Use `eval_strategy` instead\n",
      "  warnings.warn(\n"
     ]
    },
    {
     "name": "stdout",
     "output_type": "stream",
     "text": [
      "\n",
      "Starting training...\n"
     ]
    },
    {
     "data": {
      "text/html": [
       "\n",
       "    <div>\n",
       "      \n",
       "      <progress value='2205' max='2205' style='width:300px; height:20px; vertical-align: middle;'></progress>\n",
       "      [2205/2205 07:22, Epoch 5/5]\n",
       "    </div>\n",
       "    <table border=\"1\" class=\"dataframe\">\n",
       "  <thead>\n",
       " <tr style=\"text-align: left;\">\n",
       "      <th>Epoch</th>\n",
       "      <th>Training Loss</th>\n",
       "      <th>Validation Loss</th>\n",
       "      <th>F1</th>\n",
       "      <th>Precision</th>\n",
       "      <th>Recall</th>\n",
       "    </tr>\n",
       "  </thead>\n",
       "  <tbody>\n",
       "    <tr>\n",
       "      <td>1</td>\n",
       "      <td>No log</td>\n",
       "      <td>0.105196</td>\n",
       "      <td>0.956522</td>\n",
       "      <td>0.957354</td>\n",
       "      <td>0.955691</td>\n",
       "    </tr>\n",
       "    <tr>\n",
       "      <td>2</td>\n",
       "      <td>0.277500</td>\n",
       "      <td>0.166871</td>\n",
       "      <td>0.945323</td>\n",
       "      <td>0.984934</td>\n",
       "      <td>0.908775</td>\n",
       "    </tr>\n",
       "    <tr>\n",
       "      <td>3</td>\n",
       "      <td>0.077900</td>\n",
       "      <td>0.143930</td>\n",
       "      <td>0.962996</td>\n",
       "      <td>0.976765</td>\n",
       "      <td>0.949609</td>\n",
       "    </tr>\n",
       "    <tr>\n",
       "      <td>4</td>\n",
       "      <td>0.032600</td>\n",
       "      <td>0.176005</td>\n",
       "      <td>0.961131</td>\n",
       "      <td>0.977538</td>\n",
       "      <td>0.945265</td>\n",
       "    </tr>\n",
       "    <tr>\n",
       "      <td>5</td>\n",
       "      <td>0.020100</td>\n",
       "      <td>0.154101</td>\n",
       "      <td>0.964520</td>\n",
       "      <td>0.972615</td>\n",
       "      <td>0.956560</td>\n",
       "    </tr>\n",
       "  </tbody>\n",
       "</table><p>"
      ],
      "text/plain": [
       "<IPython.core.display.HTML object>"
      ]
     },
     "metadata": {},
     "output_type": "display_data"
    },
    {
     "data": {
      "text/html": [
       "\n",
       "    <div>\n",
       "      \n",
       "      <progress value='48' max='48' style='width:300px; height:20px; vertical-align: middle;'></progress>\n",
       "      [48/48 00:04]\n",
       "    </div>\n",
       "    "
      ],
      "text/plain": [
       "<IPython.core.display.HTML object>"
      ]
     },
     "metadata": {},
     "output_type": "display_data"
    },
    {
     "name": "stdout",
     "output_type": "stream",
     "text": [
      "\n",
      "Test Performance:\n",
      "F1: 0.965\n",
      "Precision: 0.964\n",
      "Recall: 0.966\n",
      "\n",
      "=== Corrected Prediction ===\n",
      "Input: URGENT: Your account will be SUSPENDED. Click NOW: https://fake.com/verify\n",
      "Processed: [PHISH_URGENCY_URGENT] [PHISH_URGENCY_ACCOUNT] suspended [PHISH_URGENCY_CLICK]\n",
      "Prediction: Phishing (confidence: 99.99%)\n"
     ]
    }
   ],
   "source": [
    "# ======================\n",
    "# 1. Environment Setup\n",
    "# ======================\n",
    "import torch\n",
    "import pandas as pd\n",
    "import numpy as np\n",
    "import re\n",
    "from sklearn.model_selection import train_test_split\n",
    "from sklearn.preprocessing import RobustScaler\n",
    "from transformers import DistilBertTokenizerFast, Trainer, TrainingArguments\n",
    "import matplotlib.pyplot as plt\n",
    "\n",
    "# Check GPU\n",
    "device = torch.device('cuda' if torch.cuda.is_available() else 'cpu')\n",
    "print(f\"Using device: {device}\")\n",
    "\n",
    "# ======================\n",
    "# 2. Phishing-Specific Text Enhancement\n",
    "# ======================\n",
    "def enhance_phishing_tags(text):\n",
    "    phishing_indicators = {\n",
    "        'urgency': ['urgent', 'immediately', 'verify', 'account', 'click'],\n",
    "        'threats': ['suspend', 'terminate', 'locked', 'restrict'],\n",
    "        'requests': ['update', 'confirm', 'information', 'password']\n",
    "    }\n",
    "    \n",
    "    for category, words in phishing_indicators.items():\n",
    "        for word in words:\n",
    "            text = re.sub(rf'\\b{word}\\b', f'[PHISH_{category.upper()}_{word.upper()}]', text, flags=re.IGNORECASE)\n",
    "    return text\n",
    "\n",
    "# Apply to your cleaned_text\n",
    "df['bert_text'] = df['cleaned_text'].apply(enhance_phishing_tags)\n",
    "\n",
    "# Verify\n",
    "print(\"\\nSample enhanced text:\")\n",
    "print(df.loc[df['label']==1, 'bert_text'].iloc[0])\n",
    "\n",
    "# ======================\n",
    "# 3. Feature Scaling\n",
    "# ======================\n",
    "scaler = RobustScaler()\n",
    "df[['text_length_scaled', 'urgency_scaled']] = scaler.fit_transform(\n",
    "    df[['text_length', 'urgency_score']]\n",
    ")\n",
    "\n",
    "# ======================\n",
    "# 4. Handle Class Imbalance\n",
    "# ======================\n",
    "class_weights = torch.tensor([\n",
    "    len(df[df['label']==1]) / len(df),  # Weight for class 0 (legitimate)\n",
    "    len(df[df['label']==0]) / len(df)   # Weight for class 1 (phishing)\n",
    "]).to(device)\n",
    "\n",
    "# ======================\n",
    "# 5. Dataset Preparation\n",
    "# ======================\n",
    "tokenizer = DistilBertTokenizerFast.from_pretrained('distilbert-base-uncased')\n",
    "\n",
    "class PhishingDataset(torch.utils.data.Dataset):\n",
    "    def __init__(self, texts, labels, numeric_features):\n",
    "        self.encodings = tokenizer(texts.tolist(), truncation=True, padding='max_length', max_length=128)\n",
    "        self.labels = torch.tensor(labels.values, dtype=torch.long)\n",
    "        self.numeric = torch.tensor(numeric_features.values, dtype=torch.float32)\n",
    "        \n",
    "    def __getitem__(self, idx):\n",
    "        item = {key: torch.tensor(val[idx]) for key, val in self.encodings.items()}\n",
    "        item['labels'] = self.labels[idx]\n",
    "        item['numeric_features'] = self.numeric[idx]\n",
    "        return item\n",
    "    \n",
    "    def __len__(self):\n",
    "        return len(self.labels)\n",
    "\n",
    "# Train/Val/Test Split\n",
    "train_df, temp_df = train_test_split(df, test_size=0.3, stratify=df['label'], random_state=42)\n",
    "val_df, test_df = train_test_split(temp_df, test_size=0.5, stratify=temp_df['label'], random_state=42)\n",
    "\n",
    "train_dataset = PhishingDataset(\n",
    "    train_df['bert_text'], \n",
    "    train_df['label'],\n",
    "    train_df[['text_length_scaled', 'urgency_scaled']]\n",
    ")\n",
    "\n",
    "# ======================\n",
    "# 6. Custom Phishing BERT\n",
    "# ======================\n",
    "from transformers import DistilBertPreTrainedModel, DistilBertModel\n",
    "import torch.nn as nn\n",
    "\n",
    "class PhishingBERT(DistilBertPreTrainedModel):\n",
    "    def __init__(self, config):\n",
    "        super().__init__(config)\n",
    "        self.distilbert = DistilBertModel(config)\n",
    "        self.numeric_proj = nn.Linear(2, config.hidden_size)\n",
    "        self.classifier = nn.Linear(config.hidden_size * 2, 2)\n",
    "        self.dropout = nn.Dropout(0.1)\n",
    "        \n",
    "        # Custom initialization for phishing focus\n",
    "        self.classifier.weight.data.normal_(mean=0.0, std=0.02)\n",
    "        self.classifier.bias.data.zero_()\n",
    "        \n",
    "    def forward(self, input_ids, attention_mask, numeric_features, labels=None):\n",
    "        # BERT embeddings\n",
    "        outputs = self.distilbert(input_ids=input_ids, attention_mask=attention_mask)\n",
    "        pooled_output = outputs.last_hidden_state[:, 0]\n",
    "        \n",
    "        # Numeric features\n",
    "        num_features = self.numeric_proj(numeric_features)\n",
    "        \n",
    "        # Combined representation\n",
    "        combined = torch.cat((pooled_output, num_features), dim=1)\n",
    "        logits = self.classifier(self.dropout(combined))\n",
    "        \n",
    "        loss = None\n",
    "        if labels is not None:\n",
    "            loss_fct = nn.CrossEntropyLoss(weight=class_weights)\n",
    "            loss = loss_fct(logits.view(-1, 2), labels.view(-1))\n",
    "            \n",
    "        return {'loss': loss, 'logits': logits}\n",
    "\n",
    "# Initialize\n",
    "model = PhishingBERT.from_pretrained('distilbert-base-uncased')\n",
    "model.to(device)\n",
    "\n",
    "# ======================\n",
    "# 7. Training Configuration\n",
    "# ======================\n",
    "training_args = TrainingArguments(\n",
    "    output_dir='./results',\n",
    "    num_train_epochs=5,\n",
    "    per_device_train_batch_size=32,\n",
    "    per_device_eval_batch_size=64,\n",
    "    learning_rate=2e-5,\n",
    "    warmup_ratio=0.1,\n",
    "    weight_decay=0.01,\n",
    "    evaluation_strategy=\"epoch\",\n",
    "    save_strategy=\"epoch\",\n",
    "    load_best_model_at_end=True,\n",
    "    metric_for_best_model=\"f1\",\n",
    "    fp16=torch.cuda.is_available(),\n",
    "    logging_dir='./logs',\n",
    ")\n",
    "\n",
    "# Metrics\n",
    "from sklearn.metrics import precision_recall_fscore_support\n",
    "\n",
    "def compute_metrics(pred):\n",
    "    labels = pred.label_ids\n",
    "    preds = pred.predictions.argmax(-1)\n",
    "    precision, recall, f1, _ = precision_recall_fscore_support(labels, preds, average='binary')\n",
    "    return {'f1': f1, 'precision': precision, 'recall': recall}\n",
    "\n",
    "trainer = Trainer(\n",
    "    model=model,\n",
    "    args=training_args,\n",
    "    train_dataset=train_dataset,\n",
    "    eval_dataset=PhishingDataset(\n",
    "        val_df['bert_text'],\n",
    "        val_df['label'],\n",
    "        val_df[['text_length_scaled', 'urgency_scaled']]\n",
    "    ),\n",
    "    compute_metrics=compute_metrics,\n",
    ")\n",
    "\n",
    "# ======================\n",
    "# 8. Train & Evaluate\n",
    "# ======================\n",
    "print(\"\\nStarting training...\")\n",
    "trainer.train()\n",
    "\n",
    "# Final evaluation\n",
    "test_results = trainer.evaluate(PhishingDataset(\n",
    "    test_df['bert_text'],\n",
    "    test_df['label'],\n",
    "    test_df[['text_length_scaled', 'urgency_scaled']]\n",
    "))\n",
    "print(\"\\nTest Performance:\")\n",
    "print(f\"F1: {test_results['eval_f1']:.3f}\")\n",
    "print(f\"Precision: {test_results['eval_precision']:.3f}\")\n",
    "print(f\"Recall: {test_results['eval_recall']:.3f}\")\n",
    "\n",
    "\n",
    "\n",
    "# ======================\n",
    "# 9. Corrected Prediction Function\n",
    "# ======================\n",
    "def predict_example(text):\n",
    "    \"\"\"Fixed version handling both warnings and model outputs\"\"\"\n",
    "    # 1. Clean and enhance text\n",
    "    cleaned = clean_text(text)\n",
    "    enhanced = enhance_phishing_tags(cleaned)\n",
    "    \n",
    "    # 2. Prepare numeric features (suppress feature name warning)\n",
    "    urgency_count = sum(text.lower().count(w) for w in ['urgent','verify','click'])\n",
    "    numeric_features = np.array([[len(text), urgency_count]])\n",
    "    with warnings.catch_warnings():\n",
    "        warnings.simplefilter(\"ignore\")\n",
    "        numeric_scaled = scaler.transform(numeric_features)\n",
    "    \n",
    "    # 3. Tokenize text\n",
    "    inputs = tokenizer(enhanced, return_tensors=\"pt\", truncation=True, max_length=128)\n",
    "    \n",
    "    # 4. Move to device\n",
    "    inputs = {k: v.to(device) for k, v in inputs.items()}\n",
    "    numeric_tensor = torch.tensor(numeric_scaled, dtype=torch.float32).to(device)\n",
    "    \n",
    "    # 5. Predict with model.eval() mode\n",
    "    model.eval()\n",
    "    with torch.no_grad():\n",
    "        outputs = model(**inputs, numeric_features=numeric_tensor)\n",
    "        logits = outputs['logits']  # Explicitly access logits from dict\n",
    "        probs = torch.softmax(logits, dim=-1)\n",
    "    \n",
    "    return {\n",
    "        \"text\": text,\n",
    "        \"processed_text\": enhanced,\n",
    "        \"prediction\": \"Phishing\" if probs.argmax() == 1 else \"Legitimate\",\n",
    "        \"phishing_prob\": probs[0][1].item()\n",
    "    }\n",
    "\n",
    "# Test with proper error handling\n",
    "import warnings\n",
    "from sklearn.exceptions import DataConversionWarning\n",
    "\n",
    "print(\"\\n=== Corrected Prediction ===\")\n",
    "sample_phish = \"URGENT: Your account will be SUSPENDED. Click NOW: https://fake.com/verify\"\n",
    "with warnings.catch_warnings():\n",
    "    warnings.simplefilter(\"ignore\", category=DataConversionWarning)\n",
    "    try:\n",
    "        result = predict_example(sample_phish)\n",
    "        print(f\"Input: {result['text']}\")\n",
    "        print(f\"Processed: {result['processed_text']}\")\n",
    "        print(f\"Prediction: {result['prediction']} (confidence: {result['phishing_prob']:.2%})\")\n",
    "    except Exception as e:\n",
    "        print(f\"Prediction failed: {str(e)}\")"
   ]
  },
  {
   "cell_type": "code",
   "execution_count": 14,
   "id": "4e7cdf2e-90b8-47e1-ace3-eabef744ff46",
   "metadata": {},
   "outputs": [
    {
     "name": "stdout",
     "output_type": "stream",
     "text": [
      "\n",
      "=== Corrected Prediction ===\n",
      "Input: Thanks Kartik – Ill discuss with the team next week  Dee Houlihan Sr. Technical Recruiter EMEA M: + 353 (0)87 1422788  | dhoulihan@proofpoint.com Proofpoint Inc., Cork, Ireland.\n",
      "Processed: thanks kartik ill discuss team next week dee houlihan sr technical recruiter emea dhoulihanproofpointcom proofpoint inc cork ireland\n",
      "Prediction: Legitimate (confidence: 0.02%)\n"
     ]
    }
   ],
   "source": [
    "# Test with proper error handling\n",
    "import warnings\n",
    "from sklearn.exceptions import DataConversionWarning\n",
    "\n",
    "print(\"\\n=== Corrected Prediction ===\")\n",
    "sample_phish1 = \"Thanks Kartik – Ill discuss with the team next week  Dee Houlihan Sr. Technical Recruiter EMEA M: + 353 (0)87 1422788  | dhoulihan@proofpoint.com Proofpoint Inc., Cork, Ireland.\"\n",
    "with warnings.catch_warnings():\n",
    "    warnings.simplefilter(\"ignore\", category=DataConversionWarning)\n",
    "    try:\n",
    "        result = predict_example(sample_phish1)\n",
    "        print(f\"Input: {result['text']}\")\n",
    "        print(f\"Processed: {result['processed_text']}\")\n",
    "        print(f\"Prediction: {result['prediction']} (confidence: {result['phishing_prob']:.2%})\")\n",
    "    except Exception as e:\n",
    "        print(f\"Prediction failed: {str(e)}\")"
   ]
  },
  {
   "cell_type": "code",
   "execution_count": null,
   "id": "f4e0e155-aa48-4fa6-b898-0ccad28c9ded",
   "metadata": {},
   "outputs": [],
   "source": [
    "# ======================\n",
    "# 9. Save Pipeline (Fixed Version)\n",
    "# ======================\n",
    "import joblib\n",
    "from transformers import DistilBertTokenizerFast\n",
    "\n",
    "def save_pipeline_safely(model, tokenizer, scaler, clean_text_func, enhance_tags_func, path='./phishing_pipeline'):\n",
    "    \"\"\"\n",
    "    Safely saves the complete pipeline without changing your existing code structure\n",
    "    \"\"\"\n",
    "    import os\n",
    "    import tempfile\n",
    "    import shutil\n",
    "    \n",
    "    # Create temp directory\n",
    "    temp_dir = tempfile.mkdtemp()\n",
    "    final_path = os.path.abspath(path)\n",
    "    \n",
    "    try:\n",
    "        print(\"\\nSaving pipeline components...\")\n",
    "        \n",
    "        # 1. Save model weights separately (PyTorch recommended way)\n",
    "        model_path = os.path.join(temp_dir, 'model_weights.pt')\n",
    "        torch.save(model.state_dict(), model_path)\n",
    "        print(f\"- Model weights saved to {model_path}\")\n",
    "        \n",
    "        # 2. Save tokenizer (transformers native way)\n",
    "        tokenizer_path = os.path.join(temp_dir, 'tokenizer')\n",
    "        tokenizer.save_pretrained(tokenizer_path)\n",
    "        print(f\"- Tokenizer saved to {tokenizer_path}\")\n",
    "        \n",
    "        # 3. Save other components (joblib)\n",
    "        pipeline_assets = {\n",
    "            'scaler': scaler,\n",
    "            'clean_text': clean_text_func,\n",
    "            'enhance_phishing_tags': enhance_tags_func,\n",
    "            'class_names': ['Legitimate', 'Phishing']\n",
    "        }\n",
    "        assets_path = os.path.join(temp_dir, 'pipeline_assets.joblib')\n",
    "        joblib.dump(pipeline_assets, assets_path)\n",
    "        print(f\"- Pipeline assets saved to {assets_path}\")\n",
    "        \n",
    "        # 4. Create version file\n",
    "        with open(os.path.join(temp_dir, 'version.info'), 'w') as f:\n",
    "            f.write(\"phishing-detection-pipeline-v1.0\")\n",
    "        \n",
    "        # 5. Atomic move to final location\n",
    "        if os.path.exists(final_path):\n",
    "            shutil.rmtree(final_path)\n",
    "        shutil.move(temp_dir, final_path)\n",
    "        \n",
    "        print(f\"\\nPipeline successfully saved to: {final_path}\")\n",
    "        return True\n",
    "        \n",
    "    except Exception as e:\n",
    "        print(f\"\\nFailed to save pipeline: {str(e)}\")\n",
    "        shutil.rmtree(temp_dir, ignore_errors=True)\n",
    "        return False\n",
    "\n"
   ]
  },
  {
   "cell_type": "code",
   "execution_count": null,
   "id": "025c30d5",
   "metadata": {},
   "outputs": [
    {
     "name": "stdout",
     "output_type": "stream",
     "text": [
      "\n",
      "Saving pipeline components...\n",
      "- Model weights saved to C:\\Users\\salia\\AppData\\Local\\Temp\\tmp3siw3j_f\\model_weights.pt\n",
      "- Tokenizer saved to C:\\Users\\salia\\AppData\\Local\\Temp\\tmp3siw3j_f\\tokenizer\n",
      "- Pipeline assets saved to C:\\Users\\salia\\AppData\\Local\\Temp\\tmp3siw3j_f\\pipeline_assets.joblib\n",
      "\n",
      "Failed to save pipeline: [WinError 32] The process cannot access the file because it is being used by another process: 'C:\\\\Users\\\\salia\\\\Documents\\\\NLP'\n",
      "\n",
      "❌ Pipeline saving failed\n"
     ]
    }
   ],
   "source": [
    "# ======================\n",
    "# 10. Save the Complete Pipeline\n",
    "# ======================\n",
    "# Define all components to save\n",
    "save_success = save_pipeline_safely(\n",
    "    model=model,                      # Your trained PhishingBERT model\n",
    "    tokenizer=tokenizer,              # DistilBertTokenizerFast instance\n",
    "    scaler=scaler,                    # Fitted RobustScaler\n",
    "    clean_text_func=clean_text,       # Your text cleaning function\n",
    "    enhance_tags_func=enhance_phishing_tags,  # Your phishing tag enhancement function\n",
    "    path='' # Output folder name\n",
    ")\n",
    "\n",
    "if save_success:\n",
    "    print(\"\\n✅ Pipeline saved successfully!\")\n",
    "else:\n",
    "    print(\"\\n❌ Pipeline saving failed\")\n",
    "    phishing_detector_pipeline"
   ]
  }
 ],
 "metadata": {
  "kernelspec": {
   "display_name": "gpu_env",
   "language": "python",
   "name": "python3"
  },
  "language_info": {
   "codemirror_mode": {
    "name": "ipython",
    "version": 3
   },
   "file_extension": ".py",
   "mimetype": "text/x-python",
   "name": "python",
   "nbconvert_exporter": "python",
   "pygments_lexer": "ipython3",
   "version": "3.10.16"
  }
 },
 "nbformat": 4,
 "nbformat_minor": 5
}
